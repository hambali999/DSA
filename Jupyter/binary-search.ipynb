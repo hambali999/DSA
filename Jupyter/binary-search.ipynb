{
 "cells": [
  {
   "cell_type": "markdown",
   "id": "dbce1e91",
   "metadata": {},
   "source": [
    "# Binary Search\n",
    "\n",
    "## Problem\n",
    "* We need to write a program to find the position of a given number in a list of numbers arranged in increasing order.\n",
    "* We also need to minimize the number of times we access elements from the list.\n",
    "\n",
    "## **Tips**:\n",
    "\n",
    "* Name your function appropriately and think carefully about the signature\n",
    "* Discuss the problem with the interviewer if you are unsure how to frame it in abstract terms\n",
    "* Use descriptive variable names, otherwise you may forget what a variable represents\n"
   ]
  },
  {
   "cell_type": "markdown",
   "id": "06a34f90",
   "metadata": {},
   "source": [
    "# Handling normal binary search, [1,3,5,7,8,12,15]"
   ]
  },
  {
   "cell_type": "code",
   "execution_count": 1,
   "id": "060084f8",
   "metadata": {},
   "outputs": [
    {
     "name": "stdout",
     "output_type": "stream",
     "text": [
      "[1, 3, 5, 7, 8, 12, 15]\n",
      "low = 0\n",
      "high = 6\n",
      "mid =  3\n",
      "mid_number =  7\n",
      "query =  12\n",
      "---\n",
      "low = 4\n",
      "high = 6\n",
      "mid =  5\n",
      "mid_number =  12\n",
      "query =  12\n",
      "---\n"
     ]
    },
    {
     "data": {
      "text/plain": [
       "5"
      ]
     },
     "execution_count": 1,
     "metadata": {},
     "output_type": "execute_result"
    }
   ],
   "source": [
    "def locate_card(cards, query):\n",
    "    \n",
    "    cards.sort() #just to sort it, can be removed.\n",
    "    print(cards)\n",
    "    low = 0\n",
    "    high = len(cards)-1\n",
    "    \n",
    "    while low <= high:\n",
    "         \n",
    "        mid = (low + high) // 2 #middle space in the array\n",
    "        mid_number = cards[mid] #middle number of the space in the array\n",
    "        \n",
    "        print(\"low =\", low)\n",
    "        print(\"high =\", high)\n",
    "        print(\"mid = \", mid)\n",
    "        print(\"mid_number = \", mid_number)\n",
    "        print(\"query = \", query)\n",
    "        print(\"---\")\n",
    "\n",
    "        \n",
    "        if mid_number == query: \n",
    "            return mid\n",
    "        elif mid_number > query:\n",
    "            high = mid - 1\n",
    "        elif mid_number < query:\n",
    "            low = mid + 1\n",
    "            \n",
    "    return -1 \n",
    "            \n",
    "    \n",
    "\n",
    "cards = [1,3,5,7,8,12,15]\n",
    "query = 12\n",
    "locate_card(cards,query)\n",
    "#output = 5"
   ]
  },
  {
   "cell_type": "markdown",
   "id": "b04f8232",
   "metadata": {},
   "source": [
    "# Handling multiple same values e.g ( 1, 3, 3, 4, 5, 5, 5, 7 )"
   ]
  },
  {
   "cell_type": "code",
   "execution_count": 2,
   "id": "8187be47",
   "metadata": {},
   "outputs": [
    {
     "name": "stdout",
     "output_type": "stream",
     "text": [
      "[1, 3, 3, 5, 5, 7, 8, 12, 12, 12, 15]\n"
     ]
    },
    {
     "data": {
      "text/plain": [
       "3"
      ]
     },
     "execution_count": 2,
     "metadata": {},
     "output_type": "execute_result"
    }
   ],
   "source": [
    "def locate_card(cards, query):\n",
    "    \n",
    "    cards.sort()\n",
    "    print(cards)\n",
    "    low = 0\n",
    "    high = len(cards)-1\n",
    "    \n",
    "    while low <= high:\n",
    "        \n",
    "        mid = (low + high) // 2 #middle space in the array\n",
    "        result = check_location(cards, query, mid)\n",
    "        \n",
    "        if result == \"found\": \n",
    "            return mid\n",
    "        elif result == \"left\":\n",
    "            high = mid - 1\n",
    "        elif result == \"right\":\n",
    "            low = mid + 1\n",
    "    return -1 \n",
    "\n",
    "def check_location(cards, query, mid): #to check to look at the right side or left of the array\n",
    "    if cards[mid] == query:\n",
    "        if cards[mid-1] == query:\n",
    "            return \"left\"\n",
    "        else:\n",
    "            return \"found\"\n",
    "    elif cards[mid] > query:\n",
    "        return \"left\"\n",
    "    else:\n",
    "        return \"right\"\n",
    "        \n",
    "    \n",
    "            \n",
    "    \n",
    "\n",
    "cards = [1, 3, 3, 5, 5, 7, 8, 12, 12, 12,15]\n",
    "query = 5\n",
    "locate_card(cards,query)\n",
    "#output = 3"
   ]
  },
  {
   "cell_type": "markdown",
   "id": "cda5604f",
   "metadata": {},
   "source": [
    "# Finding the first and last index of the query."
   ]
  },
  {
   "cell_type": "code",
   "execution_count": 3,
   "id": "f6be3f85",
   "metadata": {},
   "outputs": [
    {
     "name": "stdout",
     "output_type": "stream",
     "text": [
      "[1, 3, 3, 5, 5, 7, 8, 12, 12, 12, 15]\n"
     ]
    },
    {
     "ename": "KeyboardInterrupt",
     "evalue": "",
     "output_type": "error",
     "traceback": [
      "\u001b[0;31m---------------------------------------------------------------------------\u001b[0m",
      "\u001b[0;31mKeyboardInterrupt\u001b[0m                         Traceback (most recent call last)",
      "\u001b[0;32m<ipython-input-3-77a81b2df31a>\u001b[0m in \u001b[0;36m<module>\u001b[0;34m\u001b[0m\n\u001b[1;32m     49\u001b[0m \u001b[0mcards\u001b[0m \u001b[0;34m=\u001b[0m \u001b[0;34m[\u001b[0m\u001b[0;36m1\u001b[0m\u001b[0;34m,\u001b[0m \u001b[0;36m3\u001b[0m\u001b[0;34m,\u001b[0m \u001b[0;36m3\u001b[0m\u001b[0;34m,\u001b[0m \u001b[0;36m5\u001b[0m\u001b[0;34m,\u001b[0m \u001b[0;36m5\u001b[0m\u001b[0;34m,\u001b[0m \u001b[0;36m7\u001b[0m\u001b[0;34m,\u001b[0m \u001b[0;36m8\u001b[0m\u001b[0;34m,\u001b[0m \u001b[0;36m12\u001b[0m\u001b[0;34m,\u001b[0m \u001b[0;36m12\u001b[0m\u001b[0;34m,\u001b[0m \u001b[0;36m12\u001b[0m\u001b[0;34m,\u001b[0m\u001b[0;36m15\u001b[0m\u001b[0;34m]\u001b[0m\u001b[0;34m\u001b[0m\u001b[0;34m\u001b[0m\u001b[0m\n\u001b[1;32m     50\u001b[0m \u001b[0mquery\u001b[0m \u001b[0;34m=\u001b[0m \u001b[0;36m5\u001b[0m\u001b[0;34m\u001b[0m\u001b[0;34m\u001b[0m\u001b[0m\n\u001b[0;32m---> 51\u001b[0;31m \u001b[0mlocate_card\u001b[0m\u001b[0;34m(\u001b[0m\u001b[0mcards\u001b[0m\u001b[0;34m,\u001b[0m\u001b[0mquery\u001b[0m\u001b[0;34m)\u001b[0m\u001b[0;34m\u001b[0m\u001b[0;34m\u001b[0m\u001b[0m\n\u001b[0m\u001b[1;32m     52\u001b[0m \u001b[0;31m#output = 3\u001b[0m\u001b[0;34m\u001b[0m\u001b[0;34m\u001b[0m\u001b[0;34m\u001b[0m\u001b[0m\n",
      "\u001b[0;32m<ipython-input-3-77a81b2df31a>\u001b[0m in \u001b[0;36mlocate_card\u001b[0;34m(cards, query)\u001b[0m\n\u001b[1;32m      9\u001b[0m \u001b[0;34m\u001b[0m\u001b[0m\n\u001b[1;32m     10\u001b[0m         \u001b[0mmid\u001b[0m \u001b[0;34m=\u001b[0m \u001b[0;34m(\u001b[0m\u001b[0mlow\u001b[0m \u001b[0;34m+\u001b[0m \u001b[0mhigh\u001b[0m\u001b[0;34m)\u001b[0m \u001b[0;34m//\u001b[0m \u001b[0;36m2\u001b[0m \u001b[0;31m#middle space in the array\u001b[0m\u001b[0;34m\u001b[0m\u001b[0;34m\u001b[0m\u001b[0m\n\u001b[0;32m---> 11\u001b[0;31m         \u001b[0mfirst_loc\u001b[0m \u001b[0;34m=\u001b[0m \u001b[0mfirst_location\u001b[0m\u001b[0;34m(\u001b[0m\u001b[0mcards\u001b[0m\u001b[0;34m,\u001b[0m \u001b[0mquery\u001b[0m\u001b[0;34m,\u001b[0m \u001b[0mmid\u001b[0m\u001b[0;34m)\u001b[0m\u001b[0;34m\u001b[0m\u001b[0;34m\u001b[0m\u001b[0m\n\u001b[0m\u001b[1;32m     12\u001b[0m         \u001b[0msecond_loc\u001b[0m \u001b[0;34m=\u001b[0m \u001b[0mlast_location\u001b[0m\u001b[0;34m(\u001b[0m\u001b[0mcards\u001b[0m\u001b[0;34m,\u001b[0m \u001b[0mquery\u001b[0m\u001b[0;34m,\u001b[0m \u001b[0mmid\u001b[0m\u001b[0;34m)\u001b[0m\u001b[0;34m\u001b[0m\u001b[0;34m\u001b[0m\u001b[0m\n\u001b[1;32m     13\u001b[0m \u001b[0;34m\u001b[0m\u001b[0m\n",
      "\u001b[0;32m<ipython-input-3-77a81b2df31a>\u001b[0m in \u001b[0;36mfirst_location\u001b[0;34m(cards, query, mid)\u001b[0m\n\u001b[1;32m     21\u001b[0m \u001b[0;34m\u001b[0m\u001b[0m\n\u001b[1;32m     22\u001b[0m \u001b[0;34m\u001b[0m\u001b[0m\n\u001b[0;32m---> 23\u001b[0;31m \u001b[0;32mdef\u001b[0m \u001b[0mfirst_location\u001b[0m\u001b[0;34m(\u001b[0m\u001b[0mcards\u001b[0m\u001b[0;34m,\u001b[0m \u001b[0mquery\u001b[0m\u001b[0;34m,\u001b[0m \u001b[0mmid\u001b[0m\u001b[0;34m)\u001b[0m\u001b[0;34m:\u001b[0m \u001b[0;31m#to check to look at the right side or left of the array\u001b[0m\u001b[0;34m\u001b[0m\u001b[0;34m\u001b[0m\u001b[0m\n\u001b[0m\u001b[1;32m     24\u001b[0m     \u001b[0;32mif\u001b[0m \u001b[0mcards\u001b[0m\u001b[0;34m[\u001b[0m\u001b[0mmid\u001b[0m\u001b[0;34m]\u001b[0m \u001b[0;34m==\u001b[0m \u001b[0mquery\u001b[0m\u001b[0;34m:\u001b[0m\u001b[0;34m\u001b[0m\u001b[0;34m\u001b[0m\u001b[0m\n\u001b[1;32m     25\u001b[0m         \u001b[0;32mif\u001b[0m \u001b[0mcards\u001b[0m\u001b[0;34m[\u001b[0m\u001b[0mmid\u001b[0m\u001b[0;34m-\u001b[0m\u001b[0;36m1\u001b[0m\u001b[0;34m]\u001b[0m \u001b[0;34m==\u001b[0m \u001b[0mquery\u001b[0m\u001b[0;34m:\u001b[0m\u001b[0;34m\u001b[0m\u001b[0;34m\u001b[0m\u001b[0m\n",
      "\u001b[0;31mKeyboardInterrupt\u001b[0m: "
     ]
    }
   ],
   "source": [
    "#helps\n",
    "def locate_card(cards, query):\n",
    "    \n",
    "    cards.sort()\n",
    "    print(cards)\n",
    "    low = 0\n",
    "    high = len(cards)-1\n",
    "    \n",
    "    while low <= high:\n",
    "        \n",
    "        mid = (low + high) // 2 #middle space in the array\n",
    "        first_loc = first_location(cards, query, mid)\n",
    "        second_loc = last_location(cards, query, mid)\n",
    "        \n",
    "        if first_location == \"found\" and last_location == \"found\": \n",
    "            return first_location, last_location\n",
    "        elif first_location == \"left\":\n",
    "            high = mid - 1\n",
    "        elif last_location == \"right\":\n",
    "            low = mid + 1\n",
    "    return -1 \n",
    "\n",
    "\n",
    "def first_location(cards, query, mid): #to check to look at the right side or left of the array\n",
    "    if cards[mid] == query:\n",
    "        if cards[mid-1] == query:\n",
    "            return \"left\"\n",
    "        else:\n",
    "            return mid\n",
    "    elif cards[mid] > query:\n",
    "        return \"left\"\n",
    "    else:\n",
    "        return \"right\"\n",
    "    \n",
    "def last_location(cards, query, mid): #to check to look at the right side or left of the array\n",
    "    if cards[mid] == query:\n",
    "        if cards[mid+1] == query:\n",
    "            return \"right\"\n",
    "        else:\n",
    "            return mid\n",
    "    elif cards[mid] > query:\n",
    "        return \"left\"\n",
    "    else:\n",
    "        return \"right\"\n",
    "        \n",
    "    \n",
    "            \n",
    "    \n",
    "\n",
    "cards = [1, 3, 3, 5, 5, 7, 8, 12, 12, 12,15]\n",
    "query = 5\n",
    "locate_card(cards,query)\n",
    "#output = 3"
   ]
  },
  {
   "cell_type": "code",
   "execution_count": null,
   "id": "7a646863",
   "metadata": {},
   "outputs": [],
   "source": []
  }
 ],
 "metadata": {
  "kernelspec": {
   "display_name": "Python 3.10.8 64-bit",
   "language": "python",
   "name": "python3"
  },
  "language_info": {
   "codemirror_mode": {
    "name": "ipython",
    "version": 3
   },
   "file_extension": ".py",
   "mimetype": "text/x-python",
   "name": "python",
   "nbconvert_exporter": "python",
   "pygments_lexer": "ipython3",
   "version": "3.10.8"
  },
  "vscode": {
   "interpreter": {
    "hash": "b0fa6594d8f4cbf19f97940f81e996739fb7646882a419484c72d19e05852a7e"
   }
  }
 },
 "nbformat": 4,
 "nbformat_minor": 5
}
